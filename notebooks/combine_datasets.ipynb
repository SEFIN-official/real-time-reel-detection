{
 "cells": [
  {
   "cell_type": "code",
   "execution_count": null,
   "id": "edc8a238",
   "metadata": {},
   "outputs": [
    {
     "name": "stdout",
     "output_type": "stream",
     "text": [
      "Combined dataset saved at data/combined_dataset.csv\n"
     ]
    }
   ],
   "source": [
    "import pandas as pd\n",
    "\n",
    "# Load all datasets\n",
    "synthetic = pd.read_csv('../data/synthetic_traffic.csv')  # Your synthetic set\n",
    "reel = pd.read_csv('../data/reel_features.csv')\n",
    "nonreel = pd.read_csv('../data/nonreel_features.csv')\n",
    "\n",
    "# Match columns if needed, then concatenate\n",
    "combined = pd.concat([synthetic, reel, nonreel], ignore_index=True)\n",
    "\n",
    "# Basic cleaning (protocol/network encoding etc. as in your train notebook)\n",
    "combined['protocol_code'] = combined['protocol'].map({'TCP': 0, 'UDP': 1, 'HTTP': 2, 'UNKNOWN': 3})\n",
    "combined['network_code'] = combined['network'].map({'good': 0, 'medium': 1, 'poor': 2, 'unstable': 3})\n",
    "combined['label_code'] = combined['label'].map({'reel': 1, 'non-reel': 0})\n",
    "\n",
    "combined.to_csv('../data/combined_dataset.csv', index=False)\n",
    "print(\"Combined dataset saved at data/combined_dataset.csv\")\n"
   ]
  }
 ],
 "metadata": {
  "kernelspec": {
   "display_name": "Python 3",
   "language": "python",
   "name": "python3"
  },
  "language_info": {
   "codemirror_mode": {
    "name": "ipython",
    "version": 3
   },
   "file_extension": ".py",
   "mimetype": "text/x-python",
   "name": "python",
   "nbconvert_exporter": "python",
   "pygments_lexer": "ipython3",
   "version": "3.10.0"
  }
 },
 "nbformat": 4,
 "nbformat_minor": 5
}
