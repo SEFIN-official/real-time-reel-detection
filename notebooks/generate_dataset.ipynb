{
 "cells": [
  {
   "cell_type": "code",
   "execution_count": 2,
   "id": "c0b46278",
   "metadata": {},
   "outputs": [
    {
     "data": {
      "text/html": [
       "<div>\n",
       "<style scoped>\n",
       "    .dataframe tbody tr th:only-of-type {\n",
       "        vertical-align: middle;\n",
       "    }\n",
       "\n",
       "    .dataframe tbody tr th {\n",
       "        vertical-align: top;\n",
       "    }\n",
       "\n",
       "    .dataframe thead th {\n",
       "        text-align: right;\n",
       "    }\n",
       "</style>\n",
       "<table border=\"1\" class=\"dataframe\">\n",
       "  <thead>\n",
       "    <tr style=\"text-align: right;\">\n",
       "      <th></th>\n",
       "      <th>label</th>\n",
       "      <th>packet_size</th>\n",
       "      <th>duration</th>\n",
       "      <th>protocol</th>\n",
       "      <th>network</th>\n",
       "    </tr>\n",
       "  </thead>\n",
       "  <tbody>\n",
       "    <tr>\n",
       "      <th>0</th>\n",
       "      <td>non-reel</td>\n",
       "      <td>613</td>\n",
       "      <td>2.343352</td>\n",
       "      <td>TCP</td>\n",
       "      <td>good</td>\n",
       "    </tr>\n",
       "    <tr>\n",
       "      <th>1</th>\n",
       "      <td>non-reel</td>\n",
       "      <td>528</td>\n",
       "      <td>8.959670</td>\n",
       "      <td>TCP</td>\n",
       "      <td>poor</td>\n",
       "    </tr>\n",
       "    <tr>\n",
       "      <th>2</th>\n",
       "      <td>reel</td>\n",
       "      <td>1436</td>\n",
       "      <td>18.997812</td>\n",
       "      <td>UDP</td>\n",
       "      <td>medium</td>\n",
       "    </tr>\n",
       "    <tr>\n",
       "      <th>3</th>\n",
       "      <td>reel</td>\n",
       "      <td>1869</td>\n",
       "      <td>19.896082</td>\n",
       "      <td>UDP</td>\n",
       "      <td>medium</td>\n",
       "    </tr>\n",
       "    <tr>\n",
       "      <th>4</th>\n",
       "      <td>reel</td>\n",
       "      <td>2026</td>\n",
       "      <td>15.437096</td>\n",
       "      <td>UDP</td>\n",
       "      <td>good</td>\n",
       "    </tr>\n",
       "  </tbody>\n",
       "</table>\n",
       "</div>"
      ],
      "text/plain": [
       "      label  packet_size   duration protocol network\n",
       "0  non-reel          613   2.343352      TCP    good\n",
       "1  non-reel          528   8.959670      TCP    poor\n",
       "2      reel         1436  18.997812      UDP  medium\n",
       "3      reel         1869  19.896082      UDP  medium\n",
       "4      reel         2026  15.437096      UDP    good"
      ]
     },
     "execution_count": 2,
     "metadata": {},
     "output_type": "execute_result"
    }
   ],
   "source": [
    "# Add some edge cases and new protocols\n",
    "new_protocols = np.random.choice(['TCP', 'UDP', 'HTTP', 'QUIC', 'RTSP'], n_samples)\n",
    "labels_special = np.random.choice(['reel', 'non-reel'], n_samples, p=[0.45, 0.55])\n",
    "special_size = np.where(labels_special == 'reel', np.random.normal(2500, 800, n_samples), np.random.normal(400, 300, n_samples))\n",
    "special_duration = np.where(labels_special == 'reel', np.random.normal(14, 8, n_samples), np.random.normal(4, 2, n_samples))\n",
    "special_network = np.random.choice(['good', 'medium', 'poor', 'unstable'], n_samples)\n",
    "\n",
    "special_df = pd.DataFrame({\n",
    "    'label': labels_special,\n",
    "    'packet_size': special_size.astype(int),\n",
    "    'duration': special_duration,\n",
    "    'protocol': new_protocols,\n",
    "    'network': special_network\n",
    "})\n",
    "\n",
    "df = pd.concat([df, special_df], ignore_index=True)\n",
    "df.to_csv('../data/synthetic_traffic.csv', index=False)\n",
    "df.head()\n"
   ]
  }
 ],
 "metadata": {
  "kernelspec": {
   "display_name": "Python 3",
   "language": "python",
   "name": "python3"
  },
  "language_info": {
   "codemirror_mode": {
    "name": "ipython",
    "version": 3
   },
   "file_extension": ".py",
   "mimetype": "text/x-python",
   "name": "python",
   "nbconvert_exporter": "python",
   "pygments_lexer": "ipython3",
   "version": "3.10.0"
  }
 },
 "nbformat": 4,
 "nbformat_minor": 5
}
